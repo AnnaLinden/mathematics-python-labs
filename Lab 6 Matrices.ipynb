{
 "cells": [
  {
   "cell_type": "code",
   "execution_count": null,
   "id": "0a59bcfb-789a-4d9a-b379-90c773b139a6",
   "metadata": {},
   "outputs": [],
   "source": [
    "name = \"\"\n",
    "date_returned = \"27.02.2023\""
   ]
  },
  {
   "attachments": {},
   "cell_type": "markdown",
   "id": "ff5b24c5-80d3-4185-a718-86fc3f7e48bd",
   "metadata": {},
   "source": [
    "# Lab 6. Matrices\n",
    "Hardware 1 course - Mathematics<br>\n",
    "Information and Communication Technology<br>\n",
    "Metropolia University of Applied Sciences"
   ]
  },
  {
   "attachments": {},
   "cell_type": "markdown",
   "id": "0f87796b-9bef-4bdb-9843-87acda4b4b78",
   "metadata": {},
   "source": [
    "## Setup\n",
    "\n",
    "Read necessary libraries and functions."
   ]
  },
  {
   "cell_type": "code",
   "execution_count": 2,
   "id": "1d5742e3-5811-49b9-8c95-ebd65a94cba5",
   "metadata": {},
   "outputs": [],
   "source": [
    "import numpy as np\n",
    "import matplotlib.pyplot as plt\n",
    "from numpy import sin, cos, dot\n",
    "from numpy.linalg import det, inv"
   ]
  },
  {
   "attachments": {},
   "cell_type": "markdown",
   "id": "f324626d-e1dd-438f-be4a-c237cae4ca9d",
   "metadata": {},
   "source": [
    "---\n",
    "## Matrix calculations\n",
    "\n",
    "## Problem 1"
   ]
  },
  {
   "attachments": {},
   "cell_type": "markdown",
   "id": "60de03c7-30f4-43cb-86e5-ff3c59c8dbd3",
   "metadata": {},
   "source": [
    "Given the following square matrices<br>\n",
    "$A = \\left( \\begin{matrix} \n",
    "-6 & 12 & 12 & 26 \\\\\n",
    "-16 & -13 & -30 & -20 \\\\\n",
    "2 & -23 & -25 & -20 \\\\\n",
    "-2 & 27 & -21 & -14 \\\\\n",
    "\\end{matrix} \\right)$\n",
    "and\n",
    "$B = \\left( \\begin{matrix} \n",
    "2 & -26 & -14 & 24 \\\\\n",
    "26 & -6 & -15 & -14 \\\\\n",
    "27 & 18 & 22 & 28 \\\\\n",
    "6 & -24 & -30 & 24 \\\\\n",
    "\\end{matrix} \\right)$\n",
    "\n",
    "Calculate and display the values<br>\n",
    "(a) $C = A + B$<br>\n",
    "(b) $D = 2A - 3B$<br>\n",
    "(c) $E = AB$<br>\n",
    "(d) $F = AB^{-1}$<br>\n",
    "\n"
   ]
  },
  {
   "attachments": {},
   "cell_type": "markdown",
   "id": "1adc5b9e-5012-4018-b270-758f9576d6e6",
   "metadata": {},
   "source": [
    "### Solutions"
   ]
  },
  {
   "cell_type": "code",
   "execution_count": 3,
   "id": "b0e6f6dd-7274-46ef-adb3-7f620157d33e",
   "metadata": {},
   "outputs": [
    {
     "name": "stdout",
     "output_type": "stream",
     "text": [
      "C =\n",
      " [[ -4 -14  -2  50]\n",
      " [ 10 -19 -45 -34]\n",
      " [ 29  -5  -3   8]\n",
      " [  4   3 -51  10]]\n"
     ]
    }
   ],
   "source": [
    "# (a)\n",
    "A = np.array([[-6,12,12,26],[-16,-13,-30,-20],[2,-23,-25,-20],[-2,27,-21,-14]])\n",
    "B = np.array([[2,-26, -14, 24],[26,-6,-15,-14],[27,18,22,28],[6,-24,-30,24]])\n",
    "C = A+B\n",
    "print('C =\\n', C)"
   ]
  },
  {
   "cell_type": "code",
   "execution_count": 4,
   "id": "68f20976-d9d1-4887-b6f7-4d006c82ed83",
   "metadata": {},
   "outputs": [
    {
     "name": "stdout",
     "output_type": "stream",
     "text": [
      "D =\n",
      " [[ -18  102   66  -20]\n",
      " [-110   -8  -15    2]\n",
      " [ -77 -100 -116 -124]\n",
      " [ -22  126   48 -100]]\n"
     ]
    }
   ],
   "source": [
    "# (b)\n",
    "\n",
    "D = (2*A)-(3*B)\n",
    "print('D =\\n', D)"
   ]
  },
  {
   "cell_type": "code",
   "execution_count": 5,
   "id": "cd0d0027-e7c3-48cd-ac05-84a06bdff7dc",
   "metadata": {},
   "outputs": [
    {
     "name": "stdout",
     "output_type": "stream",
     "text": [
      "E = AB = \n",
      " [[  780  -324  -612   648]\n",
      " [-1300   434   359 -1522]\n",
      " [-1389   116   367  -810]\n",
      " [   47  -152  -419 -1350]]\n"
     ]
    }
   ],
   "source": [
    "# (c)\n",
    "E = np.dot(A, B)\n",
    "print('E = AB = \\n', E)\n"
   ]
  },
  {
   "cell_type": "code",
   "execution_count": 6,
   "id": "76981cce-9516-4b77-a1d3-c426135c16a6",
   "metadata": {},
   "outputs": [
    {
     "name": "stdout",
     "output_type": "stream",
     "text": [
      "F = AB^-1 = \n",
      " [[-0.47354489 -0.79862861  0.45826822  0.55636528]\n",
      " [-0.75268697  0.02596077 -0.73882953  0.79646521]\n",
      " [ 0.47486844  0.71165683 -0.60472014 -0.18756179]\n",
      " [-3.10704832 -0.36335513 -0.01046085  2.32396215]]\n"
     ]
    }
   ],
   "source": [
    "# (d)\n",
    "Binv = np.linalg.inv(B)\n",
    "F = np.dot(A, Binv)\n",
    "print('F = AB^-1 = \\n', F)\n"
   ]
  },
  {
   "attachments": {},
   "cell_type": "markdown",
   "id": "c1872d9e-a3d0-469b-a4f6-f114ff8399bb",
   "metadata": {},
   "source": [
    "---\n",
    "## Problem 2"
   ]
  },
  {
   "attachments": {},
   "cell_type": "markdown",
   "id": "9a58d1ae-63a3-4eb7-ae53-0de342ffbe32",
   "metadata": {},
   "source": [
    "First, use paper and pen, solve the linear equations for $x$ and $y$\n",
    "\n",
    "\\begin{align*} \n",
    "a_1 x + a_2y &=  b_1 \\\\ \n",
    "a_3 x + a_4 y &= b_2\n",
    "\\end{align*}\n",
    "\n",
    "Then write a code that solves the following equations\n",
    "\n",
    "\\begin{align*} \n",
    "2x - 5y &=  8 \\\\ \n",
    "3x + 9y &=  -12\n",
    "\\end{align*}\n"
   ]
  },
  {
   "attachments": {},
   "cell_type": "markdown",
   "id": "1dace412-7d48-4f69-9a07-0f62e896d5dd",
   "metadata": {},
   "source": [
    "### Solution"
   ]
  },
  {
   "cell_type": "code",
   "execution_count": 7,
   "id": "5775df1e-b457-4ce4-a000-c89266534ee5",
   "metadata": {},
   "outputs": [
    {
     "name": "stdout",
     "output_type": "stream",
     "text": [
      "x = 0.364\n",
      "y = -1.455\n"
     ]
    }
   ],
   "source": [
    "# a1 = 2\n",
    "# a2 = -5\n",
    "# ...\n",
    "# x = ...\n",
    "# y = ...\n",
    "\n",
    "a1 = 2\n",
    "a2 = -5\n",
    "b1 = 8\n",
    "a3 = 3\n",
    "a4 = 9\n",
    "b2 = -12\n",
    "x = np.round_(((𝑏1*𝑎4 - 𝑏2*𝑎2)/(𝑎1*𝑎4 - 𝑎2*𝑎3)),decimals = 3)\n",
    "y = np.round_(((b2 - a3*x)/a4),decimals = 3)     \n",
    "print(f'x = {x}')\n",
    "print(f'y = {y}')"
   ]
  },
  {
   "attachments": {},
   "cell_type": "markdown",
   "id": "a2e49635-571a-4309-b0fc-4829ee6994d3",
   "metadata": {},
   "source": [
    "---\n",
    "## Problem 3\n",
    "Solve the following equations using `numpy` matrix operations\n",
    "\\begin{align*}\n",
    "2x + y + 3z = −1 \\\\\n",
    "x − y − 2z = 5 \\\\\n",
    "2x + y − 3z = 2\n",
    "\\end{align*}"
   ]
  },
  {
   "attachments": {},
   "cell_type": "markdown",
   "id": "bfaf29b8-6f09-4d01-acee-81ca73f122ec",
   "metadata": {},
   "source": [
    "### Solution"
   ]
  },
  {
   "cell_type": "code",
   "execution_count": 8,
   "id": "639f1242-1f89-4ed1-8e3b-cb91f2795ffc",
   "metadata": {},
   "outputs": [
    {
     "name": "stdout",
     "output_type": "stream",
     "text": [
      "x,y,z = [ 1.5 -2.5 -0.5]\n"
     ]
    }
   ],
   "source": [
    "A = np.array([[2,1,3], [1, -1,-2], [2,1,-3]])\n",
    "b = np.array([-1,5,2])\n",
    "solution = np.linalg.solve(A, b)\n",
    "\n",
    "print('x,y,z =', solution)"
   ]
  },
  {
   "attachments": {},
   "cell_type": "markdown",
   "id": "492a9dad-5aa7-4d7a-b0f5-93c27d9f25dd",
   "metadata": {},
   "source": [
    "---\n",
    "## Problem 4\n",
    "Using numpy, determine if the following system have nontrivial solution\n",
    "\\begin{align*}\n",
    "2x − 3y − 2z = 0 \\\\\n",
    "3x + y − 3z = 0 \\\\\n",
    "x − 7y − z = 0 \\\\\n",
    "\\end{align*}"
   ]
  },
  {
   "attachments": {},
   "cell_type": "markdown",
   "id": "56339a48-5070-4819-b156-fa178c66acbb",
   "metadata": {},
   "source": [
    "### Solution"
   ]
  },
  {
   "cell_type": "code",
   "execution_count": 9,
   "id": "6b992f33-e6e3-4ca6-a538-18b43fa0484c",
   "metadata": {},
   "outputs": [
    {
     "name": "stdout",
     "output_type": "stream",
     "text": [
      "A = \n",
      " [[ 2 -3 -2]\n",
      " [ 3  1 -3]\n",
      " [ 1 -7 -1]]\n",
      "det(A) = 0.0\n",
      "It has nontrivial solution/ solutions.\n"
     ]
    }
   ],
   "source": [
    "A = np.array([[2,-3,-2], [3, 1, -3], [1,-7,-1]])\n",
    "detA = np.linalg.det(A)\n",
    "\n",
    "print('A = \\n', A)\n",
    "print('det(A) =', np.round_(detA,decimals = 3))\n",
    "if detA<0.001:\n",
    "    print (\"It has nontrivial solution/ solutions.\")\n",
    "else:\n",
    "    print (\"Only trivial solutions\")"
   ]
  },
  {
   "attachments": {},
   "cell_type": "markdown",
   "id": "fe28dad0-6dd6-4652-98d7-c62dc793821f",
   "metadata": {},
   "source": [
    "---\n",
    "## Problem 5\n",
    "Solve the following equations using numpy linear algebra operations\n",
    "\\begin{matrix} \n",
    "6x_1 + 6x_2 + 2x_3 + 3x_4 + 3x_5 = 7 \\\\\n",
    "3x_1 + 8x_2 + 8x_3 + 6x_4 + 8x_5 = 4 \\\\\n",
    "2x_1 + 3x_2 + 7x_3 + 6x_4 + 8x_5 = 1 \\\\\n",
    "3x_1 + 8x_2 + 7x_3 + 2x_4 + 2x_5 = 2 \\\\\n",
    "x_1 + 2x_2 + 8x_3 + 8x_4 + 8x_5 = 2\n",
    "\\end{matrix}"
   ]
  },
  {
   "attachments": {},
   "cell_type": "markdown",
   "id": "f87f1519-94cf-459a-a72b-1aacce6fec97",
   "metadata": {},
   "source": [
    "### Solution"
   ]
  },
  {
   "cell_type": "code",
   "execution_count": 10,
   "id": "ff41220d-5da6-46bf-b963-69386158f120",
   "metadata": {},
   "outputs": [
    {
     "name": "stdout",
     "output_type": "stream",
     "text": [
      "x = [ 0.253  0.739 -0.948  1.47  -0.489]\n"
     ]
    }
   ],
   "source": [
    "A = np.array([[6,6,2,3,3], [3,8,8,6,8], [2,3,7,6,8],[3,8,7,2,2],[1,2,8,8,8]])\n",
    "b = np.array([7,4,1,2,2])\n",
    "x = np.linalg.solve(A, b)\n",
    "\n",
    "print('x =', np.round_(x, decimals = 3))"
   ]
  },
  {
   "attachments": {},
   "cell_type": "markdown",
   "id": "80f0ffcb-f7e7-4d37-b778-769658e88fa9",
   "metadata": {},
   "source": [
    "---\n",
    "## Problem 6\n",
    "If $a_n = n^2$, find the determinant $det(A)$ of the cyclic matrix\n",
    "$A = \\left( \\begin{matrix} \n",
    "a_1 & a_2 & a_3 & a_4 & a_5 \\\\\n",
    "a_5 & a_1 & a_2 & a_3 & a_4 \\\\\n",
    "a_4 & a_5 & a_1 & a_2 & a_3 \\\\\n",
    "a_3 & a_4 & a_5 & a_1 & a_2 \\\\\n",
    "a_2 & a_3 & a_4 & a_5 & a_1 \\\\\n",
    "\\end{matrix} \\right)$"
   ]
  },
  {
   "attachments": {},
   "cell_type": "markdown",
   "id": "d14cbf45-7dfc-43c0-a0cd-2a406038bd76",
   "metadata": {},
   "source": [
    "### Solution"
   ]
  },
  {
   "cell_type": "code",
   "execution_count": 11,
   "id": "0262bf05-6637-4f94-a5d0-52f15f018333",
   "metadata": {},
   "outputs": [
    {
     "name": "stdout",
     "output_type": "stream",
     "text": [
      "A = \n",
      " [[ 1  4  9 16 25]\n",
      " [25  1  4  9 16]\n",
      " [16 25  1  4  9]\n",
      " [ 9 16 25  1  4]\n",
      " [ 4  9 16 25  1]]\n",
      "det(A) = 9406375.0\n"
     ]
    }
   ],
   "source": [
    "A = np.array([[1,4,9,16,25], [25,1,4,9,16], [16,25,1,4,9], [9,16,25,1,4], [4,9,16,25,1]])\n",
    "detA = np.linalg.det(A)\n",
    "\n",
    "print('A = \\n', A)\n",
    "print('det(A) =', np.round_(detA,decimals = 3))"
   ]
  },
  {
   "attachments": {},
   "cell_type": "markdown",
   "id": "0d2169b7-eeea-473c-a658-a064d051c6cd",
   "metadata": {},
   "source": [
    "---\n",
    "## Problem 7\n",
    "Find the determinant of the matrix \n",
    "$A = \\left( \\begin{matrix} \n",
    "1 & sin(3t) & sin^3(t) \\\\\n",
    "2cos(t) & sin(6t) & sin^3(2t) \\\\\n",
    "4cos^2(t) - 1 & sin(9t) & sin^3(3t)\n",
    "\\end{matrix} \\right)$, when  \n",
    "\n",
    "(a) $t = 1.0$, <br>\n",
    "(b) $t = 2.03$, and <br>\n",
    "(c) $t = -0.345$. <br>\n",
    "Round the results to 3 decimals."
   ]
  },
  {
   "attachments": {},
   "cell_type": "markdown",
   "id": "22f31558-690c-47e9-aabe-3a03c71fd48b",
   "metadata": {},
   "source": [
    "### Solution"
   ]
  },
  {
   "cell_type": "code",
   "execution_count": 21,
   "id": "f4ec096b-eb29-42f7-a7d8-a817e43c2be8",
   "metadata": {},
   "outputs": [
    {
     "name": "stdout",
     "output_type": "stream",
     "text": [
      "\n",
      "Matrix A, when t = 1\n",
      " [[ 1.          0.14112001  0.59582324]\n",
      " [ 1.08060461 -0.2794155   0.75182694]\n",
      " [ 0.16770633  0.41211849  0.00281038]]\n",
      "\n",
      "DETERMINANT = 0.0\n",
      "\n",
      "Matrix A, when t = 2.03\n",
      " [[ 1.         -0.19198592  0.72030079]\n",
      " [-0.88646883 -0.37682907 -0.50176955]\n",
      " [-0.21417301 -0.54765243 -0.00707633]]\n",
      "\n",
      "DETERMINANT = 0.0\n",
      "\n",
      "Matrix A, when t = -0.345\n",
      " [[ 1.         -0.85986236 -0.03868192]\n",
      " [ 1.88215091 -0.87796406 -0.25791187]\n",
      " [ 2.54249203 -0.03658449 -0.63575065]]\n",
      "\n",
      "DETERMINANT = -0.0\n"
     ]
    }
   ],
   "source": [
    "def make_matrix(t):\n",
    "    A = np.array([[1, np.sin(3*t), np.power(np.sin(t), 3) ],[2* np.cos(t), np.sin (6*t), np.power(np.sin(2*t), 3) ],\n",
    "                  [4*(np.power(np.cos(t), 2))-1, np.sin(9*t), np.power(np.sin(3*t), 3)]]) \n",
    "    \n",
    "    print (f\"\\nMatrix A, when t = {t}\\n\", A)\n",
    "    return A\n",
    "def make_determinant(matrix):\n",
    "    det_matrix = np.linalg.det(matrix)\n",
    "    print('\\nDETERMINANT =', np.round_(det_matrix,decimals = 3))\n",
    "    \n",
    "\n",
    "a = make_matrix(1)\n",
    "make_determinant(a)\n",
    "b = make_matrix(2.03)\n",
    "make_determinant(b)\n",
    "c = make_matrix(-0.345)\n",
    "make_determinant(c)"
   ]
  },
  {
   "attachments": {},
   "cell_type": "markdown",
   "id": "ceb97373-1ee9-44a8-b9a3-c75327e4ee27",
   "metadata": {},
   "source": [
    "---\n",
    "## Problem 8\n",
    "If $ A = \\left( \\begin{matrix}\n",
    "a + x & a - x & a - x \\\\\n",
    "a - x & a + x & a - x \\\\\n",
    "a - x & a - x & a + x\n",
    "\\end{matrix} \\right)$ and $a = 1$, find $x > 0$ so that $det(A) = 0$. \n",
    "\n",
    "How $a$ and $x$ are related?\n",
    "\n",
    "Tip: Calculate the $det(A)$ for different values of $x$ and make a graph of $f(x) = det(A)$. Find from the graph, when $f(x) = 0$."
   ]
  },
  {
   "attachments": {},
   "cell_type": "markdown",
   "id": "c3e1b07b-9088-4e59-afd4-437b98241252",
   "metadata": {},
   "source": [
    "### Solution"
   ]
  },
  {
   "cell_type": "code",
   "execution_count": 23,
   "id": "19dedf68-5047-4df2-8f8f-e38ab5aa2e91",
   "metadata": {},
   "outputs": [
    {
     "data": {
      "image/png": "[encoded data removed]",
      "text/plain": [
       "<Figure size 432x288 with 1 Axes>"
      ]
     },
     "metadata": {
      "needs_background": "light"
     },
     "output_type": "display_data"
    },
    {
     "name": "stdout",
     "output_type": "stream",
     "text": [
      "x1 = 0\n",
      "x2 = 3\n",
      "0.0\n"
     ]
    }
   ],
   "source": [
    "#I made it with pen and paper, is there a faster way to create this equation?\n",
    "def det_A(x):\n",
    "    return (-4*x**3 + 12*x**2)\n",
    "\n",
    "#check results using this function\n",
    "def det_B(x):\n",
    "    A = np.array([[1+x,1-x,1-x], [1-x, 1+x, 1-x], [1-x,1-x,1+x]])\n",
    "    detA = np.linalg.det(A)\n",
    "    return (detA)\n",
    "    \n",
    "\n",
    "# create an array of x values\n",
    "x_values = np.linspace(0, 3, num=1000)\n",
    "\n",
    "\n",
    "# calculate the det(A) for each x value\n",
    "det_values = det_A(x_values)\n",
    "\n",
    "\n",
    "# plot the det(A) function\n",
    "plt.plot(x_values, det_values)\n",
    "plt.axhline(y=0, color='r', linestyle='--')\n",
    "plt.xlabel('x')\n",
    "plt.ylabel('det(A)')\n",
    "plt.show()\n",
    "print (\"x1 = 0\")\n",
    "print (\"x2 = 3\")\n"
   ]
  },
  {
   "attachments": {},
   "cell_type": "markdown",
   "id": "d21cdfd9-e0ce-42da-b351-dcf4eacaba4d",
   "metadata": {},
   "source": [
    "---\n",
    "## Problem 9\n",
    "if $A = \\left( \\begin{matrix}\n",
    "0 & 1 & 2 \\\\\n",
    "1 & 2 & 3 \\\\\n",
    "3 & a & 1 \\end{matrix} \\right)$ and \n",
    "$A^{-1} = \\left( \\begin{matrix}\n",
    "0.5 & -0.5 & 0.5 \\\\\n",
    "-4 & 3 & c \\\\\n",
    "2.5 & -1.5 & 0.5 \\end{matrix} \\right)$\n",
    "\n",
    "For which of the values of  $a \\in \\left( -3,-2,-1,0,1,2,3 \\right)$ this is true? What is the value of $c$ then?"
   ]
  },
  {
   "attachments": {},
   "cell_type": "markdown",
   "id": "ca1feb4a-f696-46c4-99b9-6bf73195634e",
   "metadata": {},
   "source": [
    "### Solution"
   ]
  },
  {
   "cell_type": "code",
   "execution_count": 14,
   "id": "0152b1eb-060b-4aae-95fc-b68e73815f35",
   "metadata": {},
   "outputs": [
    {
     "name": "stdout",
     "output_type": "stream",
     "text": [
      "A = \n",
      " [[0. 1. 2.]\n",
      " [1. 2. 3.]\n",
      " [3. 1. 1.]]\n",
      "Ainv = \n",
      " [[ 0.5 -0.5  0.5]\n",
      " [-4.   3.  -1. ]\n",
      " [ 2.5 -1.5  0.5]]\n",
      "a =  1\n",
      "c =  -1\n"
     ]
    }
   ],
   "source": [
    "A = np.array([[0, 1., 2.], [1,2,3], [3, 1, 1]])\n",
    "Ainv = np.linalg.inv(A)\n",
    "\n",
    "print('A = \\n', A)\n",
    "print('Ainv = \\n', Ainv)\n",
    "\n",
    "a = 1\n",
    "c = -1\n",
    "print(\"a = \", a)\n",
    "print(\"c = \", c)"
   ]
  },
  {
   "attachments": {},
   "cell_type": "markdown",
   "id": "d1b16600-20ea-405d-896a-d9c88393aae7",
   "metadata": {},
   "source": [
    "---\n",
    "## Linear transformations\n",
    "\n",
    "Below is given a code that generates 200 data points. The first row `p[0, :]` contains the x-values and the second row `p[1, :]` the y-values. The third row `p[2, :]` has values of 1.\n",
    "\n",
    "In the second cell is a function that draws the data points as graphics. \n",
    "\n",
    "Your task is to use linear transformations to *rotate*, *move* and *scale* the datapoints using matrix operations."
   ]
  },
  {
   "attachments": {},
   "cell_type": "markdown",
   "id": "3762fd11-26ac-4330-8666-6871606b5388",
   "metadata": {},
   "source": [
    "### Data-points"
   ]
  },
  {
   "cell_type": "code",
   "execution_count": 15,
   "id": "26a2637b-d3e1-4557-a3ae-d14104972141",
   "metadata": {},
   "outputs": [],
   "source": [
    "t = np.linspace(0, 2*np.pi)\n",
    "x1 = np.cos(t) + 1.0\n",
    "y1 = np.sin(t) + 1.0\n",
    "x2 = np.cos(t)/10 + 0.6\n",
    "y2 = np.sin(t)/10 + 1.5\n",
    "x3 = np.cos(t)/10 + 1.4\n",
    "y3 = np.sin(t)/10 + 1.5\n",
    "x4 = np.cos(t/2)/2 + 1.0\n",
    "y4 = -np.sin(t/2)/2 + 1.0\n",
    "p = np.zeros((3, 200))\n",
    "p[0, :] = np.hstack((x1, x2, x3, x4))\n",
    "p[1, :] = np.hstack((y1, y2, y3, y4))\n",
    "p[2, :] = np.ones((1, 200))"
   ]
  },
  {
   "attachments": {},
   "cell_type": "markdown",
   "id": "dd4e3cf0-2699-44cf-b953-53ed08dea4ba",
   "metadata": {},
   "source": [
    "### Drawing function"
   ]
  },
  {
   "cell_type": "code",
   "execution_count": 16,
   "id": "936ba1b6-a8b4-45c6-99da-129bcc040e56",
   "metadata": {},
   "outputs": [],
   "source": [
    "def draw(p):\n",
    "    plt.figure(figsize = (7, 7))\n",
    "    plt.plot(p[0, :50], p[1, :50])\n",
    "    plt.fill(p[0, 50:100], p[1, 50:100])\n",
    "    plt.fill(p[0, 100:150], p[1, 100:150])\n",
    "    plt.fill(p[0, 150:200], p[1, 150:200])\n",
    "    plt.axhline(0, color = 'red')\n",
    "    plt.axvline(0, color = 'red')\n",
    "    plt.xlim(-5, 5)\n",
    "    plt.ylim(-5, 5)\n",
    "    plt.grid()\n",
    "    plt.show()"
   ]
  },
  {
   "attachments": {},
   "cell_type": "markdown",
   "id": "c4bde44a-a960-4a29-a535-a29cade148d1",
   "metadata": {},
   "source": [
    "### Original graphics"
   ]
  },
  {
   "cell_type": "code",
   "execution_count": 17,
   "id": "eeb98c4f-e5c7-4b25-afe4-d8714ca30fad",
   "metadata": {},
   "outputs": [
    {
     "data": {
      "image/png": "[encoded data removed]",
      "text/plain": [
       "<Figure size 504x504 with 1 Axes>"
      ]
     },
     "metadata": {
      "needs_background": "light"
     },
     "output_type": "display_data"
    }
   ],
   "source": [
    "draw(p)\n",
    "plt.show()"
   ]
  },
  {
   "attachments": {},
   "cell_type": "markdown",
   "id": "f35bd02b-26c0-436b-ab88-6b4306a10ae1",
   "metadata": {},
   "source": [
    "---\n",
    "## Problem 10 (a)\n",
    "\n",
    "Rotate the graphics by +30 degrees (counterclockwise)."
   ]
  },
  {
   "attachments": {},
   "cell_type": "markdown",
   "id": "8a5b1e9e-0b12-44aa-98e7-13a1991bba11",
   "metadata": {},
   "source": [
    "### Solution (a)"
   ]
  },
  {
   "cell_type": "code",
   "execution_count": 18,
   "id": "d1289ddc-d72f-4cc9-8070-635d9e24446b",
   "metadata": {},
   "outputs": [
    {
     "data": {
      "image/png": "[encoded data removed]",
      "text/plain": [
       "<Figure size 504x504 with 1 Axes>"
      ]
     },
     "metadata": {
      "needs_background": "light"
     },
     "output_type": "display_data"
    }
   ],
   "source": [
    "theta = np.deg2rad(30)\n",
    "\n",
    "Rot = np.array([[np.cos(theta), -np.sin(theta), 0],\n",
    "              [np.sin(theta), np.cos(theta), 0],\n",
    "             [0, 0, 1]])\n",
    "pa = np.dot(Rot, p)\n",
    "\n",
    "\n",
    "\n",
    "draw(pa)\n",
    "plt.show()"
   ]
  },
  {
   "cell_type": "code",
   "execution_count": 19,
   "id": "a86ff88d-2def-437c-a951-45eddb4f4f1a",
   "metadata": {},
   "outputs": [],
   "source": [
    "# Results should look like this"
   ]
  },
  {
   "attachments": {},
   "cell_type": "markdown",
   "id": "b32357ea-20d8-4299-a43b-beca87523606",
   "metadata": {},
   "source": [
    "---\n",
    "## Problem 10 (b)\n",
    "Rotate the figure by +30 degrees followed by a reflection across the vertical axis."
   ]
  },
  {
   "attachments": {},
   "cell_type": "markdown",
   "id": "8c524c32-96b9-40e8-a342-fd4474e187e5",
   "metadata": {},
   "source": [
    "### Solution (b)"
   ]
  },
  {
   "cell_type": "code",
   "execution_count": 20,
   "id": "b085eac0-0acb-4c5c-92f2-f299a33d8932",
   "metadata": {},
   "outputs": [
    {
     "data": {
      "image/png": "[encoded data removed]",
      "text/plain": [
       "<Figure size 504x504 with 1 Axes>"
      ]
     },
     "metadata": {
      "needs_background": "light"
     },
     "output_type": "display_data"
    }
   ],
   "source": [
    "theta = np.deg2rad(30)\n",
    "\n",
    "Rot = np.array([[np.cos(theta), -np.sin(theta), 0],\n",
    "              [np.sin(theta), np.cos(theta), 0],\n",
    "             [0, 0, 1]])\n",
    "vertRefl = np.array([[-1, 0, 0],\n",
    "              [0, 1, 0],\n",
    "             [0, 0, 1]])\n",
    "pb = np.dot(Rot, p)\n",
    "pb = np.dot(vertRefl, pb)\n",
    "\n",
    "\n",
    "\n",
    "draw(pb)\n",
    "plt.show()"
   ]
  },
  {
   "cell_type": "code",
   "execution_count": 21,
   "id": "6f54491b-82a3-4a0d-bee4-7430eb6ba2ca",
   "metadata": {},
   "outputs": [],
   "source": [
    "# Results should look like this"
   ]
  },
  {
   "attachments": {},
   "cell_type": "markdown",
   "id": "5bf0e9a8-5bb0-4b20-9761-4e4da9998af7",
   "metadata": {},
   "source": []
  },
  {
   "attachments": {},
   "cell_type": "markdown",
   "id": "77001844-d912-4a02-bf99-cb3f058db928",
   "metadata": {},
   "source": [
    "---\n",
    "## Problem 10 (c)\n",
    "\n",
    "Reflect the figure across the vertical axis followed by a rotation by -60 degrees."
   ]
  },
  {
   "attachments": {},
   "cell_type": "markdown",
   "id": "b985a368-a3af-4472-8478-efff7af68db9",
   "metadata": {},
   "source": [
    "### Solution (c)"
   ]
  },
  {
   "cell_type": "code",
   "execution_count": 22,
   "id": "d57c4f94-2267-4fee-acde-d7f088a6edd2",
   "metadata": {},
   "outputs": [
    {
     "data": {
      "image/png": "[encoded data removed]",
      "text/plain": [
       "<Figure size 504x504 with 1 Axes>"
      ]
     },
     "metadata": {
      "needs_background": "light"
     },
     "output_type": "display_data"
    }
   ],
   "source": [
    "theta = np.deg2rad(-60)\n",
    "Rot = np.array([[np.cos(theta), -np.sin(theta), 0],\n",
    "              [np.sin(theta), np.cos(theta), 0],\n",
    "             [0, 0, 1]])\n",
    "\n",
    "pc = np.dot(vertRefl, p)\n",
    "pc=  np.dot(Rot, pc)\n",
    "\n",
    "\n",
    "draw(pc)\n",
    "plt.show()\n"
   ]
  },
  {
   "cell_type": "code",
   "execution_count": 23,
   "id": "061b8c26-99b0-4097-b6a5-3e24a3684449",
   "metadata": {},
   "outputs": [],
   "source": [
    "# Results should look like this"
   ]
  },
  {
   "attachments": {},
   "cell_type": "markdown",
   "id": "eab10cf6-f4c4-41cc-9476-4f4ce42f342a",
   "metadata": {},
   "source": [
    "---\n",
    "## Problem 10 (d)\n",
    "Move the figure 3 units to the left and 1 unit upwards, followed by enlarging it by 2x both in x and y directions."
   ]
  },
  {
   "attachments": {},
   "cell_type": "markdown",
   "id": "d5dda95f-88d6-40d9-97fb-89f1232f0902",
   "metadata": {},
   "source": [
    "### Solution (d)"
   ]
  },
  {
   "cell_type": "code",
   "execution_count": 24,
   "id": "c333d0c0-eb15-4688-8256-6afc8ee61d30",
   "metadata": {},
   "outputs": [
    {
     "data": {
      "image/png": "[encoded data removed]",
      "text/plain": [
       "<Figure size 504x504 with 1 Axes>"
      ]
     },
     "metadata": {
      "needs_background": "light"
     },
     "output_type": "display_data"
    }
   ],
   "source": [
    "TransLeft = np.array([[1, 0, -3], [0, 1, 0], [0, 0, 1]]) \n",
    "TransUp = np.array([[1, 0, 0], [0, 1, 1], [0, 0, 1]])\n",
    "Enlarge = np.array([[2, 0, 0], [0, 2, 0], [0, 0, 1]])\n",
    "\n",
    "pd = np.dot(TransLeft, p)\n",
    "pd = np.dot(TransUp, pd)\n",
    "pd = np.dot(Enlarge, pd)\n",
    "\n",
    "draw(pd)\n",
    "plt.show()"
   ]
  },
  {
   "cell_type": "code",
   "execution_count": 25,
   "id": "4d4beef3-b139-45af-b6fc-fadc568b24da",
   "metadata": {},
   "outputs": [],
   "source": [
    "# Results should look like this"
   ]
  },
  {
   "attachments": {},
   "cell_type": "markdown",
   "id": "5fc08bf8-d5b6-41ae-be22-9b5a0f070f94",
   "metadata": {},
   "source": [
    "## Problem 10 (e)\n",
    "\n",
    "Find the code which transforms the original graphics to look like as shown below."
   ]
  },
  {
   "cell_type": "code",
   "execution_count": 26,
   "id": "ddb1e0d3-53a4-4281-a7b1-43d003f1f3e0",
   "metadata": {},
   "outputs": [],
   "source": [
    "# The final results should look like this"
   ]
  },
  {
   "attachments": {},
   "cell_type": "markdown",
   "id": "7429db90-0b20-4d32-a2d4-6c16789abd8a",
   "metadata": {},
   "source": [
    "### Solution (e)"
   ]
  },
  {
   "cell_type": "code",
   "execution_count": 38,
   "id": "93f0c694-adcf-4211-bbca-3131c7840e62",
   "metadata": {},
   "outputs": [
    {
     "data": {
      "image/png": "[encoded data removed]",
      "text/plain": [
       "<Figure size 504x504 with 1 Axes>"
      ]
     },
     "metadata": {
      "needs_background": "light"
     },
     "output_type": "display_data"
    }
   ],
   "source": [
    "theta = np.deg2rad(-45)\n",
    "\n",
    "#transfer left by 1\n",
    "TransLeft = np.array([[1, 0, -1], [0, 1, 0], [0, 0, 1]])\n",
    "\n",
    "#reflect on y axis\n",
    "VertRefl = np.array([[-1, 0, 0],\n",
    "              [0, 1, 0],\n",
    "             [0, 0, 1]])\n",
    "\n",
    "#rotate by 45 degrees\n",
    "Rot = np.array([[np.cos(theta), -np.sin(theta), 0],\n",
    "              [np.sin(theta), np.cos(theta), 0],\n",
    "             [0, 0, 1]])\n",
    "#transfer up and right by 0.3\n",
    "TransUp = np.array([[1, 0, 0], [0, 1, 0.3], [0, 0, 1]])\n",
    "TransRight = np.array([[1, 0, 0.3], [0, 1, 0], [0, 0, 1]])\n",
    "\n",
    "#reglect to origin\n",
    "OriginRefl = np.array([[-1, 0, 0],\n",
    "              [0, -1, 0],\n",
    "             [0, 0, 1]])\n",
    "#enlarge by 2\n",
    "Enlarge = np.array([[2, 0, 0], [0, 2, 0], [0, 0, 1]])\n",
    "\n",
    "pe = np.dot(TransLeft, p)\n",
    "pe = np.dot(VertRefl, pe)\n",
    "pe = np.dot(Rot, pe)\n",
    "pe = np.dot(TransUp, pe)\n",
    "pe = np.dot(TransRight, pe)\n",
    "pe = np.dot (OriginRefl, pe)\n",
    "pe = np.dot(Enlarge, pe)\n",
    "\n",
    "\n",
    "\n",
    "draw(pe)\n",
    "plt.show()"
   ]
  },
  {
   "cell_type": "code",
   "execution_count": null,
   "id": "fef5571f",
   "metadata": {},
   "outputs": [],
   "source": []
  },
  {
   "cell_type": "code",
   "execution_count": null,
   "id": "daf16295",
   "metadata": {},
   "outputs": [],
   "source": []
  }
 ],
 "metadata": {
  "kernelspec": {
   "display_name": "Python 3 (ipykernel)",
   "language": "python",
   "name": "python3"
  },
  "language_info": {
   "codemirror_mode": {
    "name": "ipython",
    "version": 3
   },
   "file_extension": ".py",
   "mimetype": "text/x-python",
   "name": "python",
   "nbconvert_exporter": "python",
   "pygments_lexer": "ipython3",
   "version": "3.9.12"
  }
 },
 "nbformat": 4,
 "nbformat_minor": 5
}
